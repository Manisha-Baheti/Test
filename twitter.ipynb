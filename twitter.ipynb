{
 "cells": [
  {
   "cell_type": "code",
   "execution_count": 1,
   "metadata": {},
   "outputs": [],
   "source": [
    "import tweepy\n",
    "import pandas as pd\n",
    "import numpy as np\n",
    "from IPython.display import display\n",
    "import matplotlib.pyplot as plt\n",
    "import seaborn as sns"
   ]
  },
  {
   "cell_type": "code",
   "execution_count": 2,
   "metadata": {},
   "outputs": [],
   "source": [
    "from credentials import *"
   ]
  },
  {
   "cell_type": "code",
   "execution_count": 3,
   "metadata": {},
   "outputs": [],
   "source": [
    "def twitter_setup():\n",
    "    auth = tweepy.OAuthHandler(CONSUMER_KEY,CONSUMER_SECRET)\n",
    "    auth.set_access_token(ACCESS_TOKEN,ACCESS_SECRET)\n",
    "    api = tweepy.API(auth)\n",
    "    return api   \n"
   ]
  },
  {
   "cell_type": "code",
   "execution_count": 4,
   "metadata": {},
   "outputs": [
    {
     "name": "stdout",
     "output_type": "stream",
     "text": [
      "Number of tweets extracted : 200.\n",
      "\n",
      "5 recent tweets :\n",
      "\n",
      "â€œGOP Lawmakers asking Sessions to Investigate Comey and Hillary Clinton.â€� @FoxNews   Good luck with that request!\n",
      "\n",
      "â€œAt least two Memos Comey shared with a friend contained Classified Information.â€�  Wall Street Journal\n",
      "\n",
      "RT @dmartosko: The same can be said of the \"collusion\" stuff. https://t.co/xMCVuH3OTs\n",
      "\n",
      "The Washington Post said I refer to Jeff Sessions as â€œMr. Magooâ€� and Rod Rosenstein as â€œMr. Peepers.â€� This is â€œaccoâ€¦ https://t.co/ISMM0vuii6\n",
      "\n",
      "James Comeyâ€™s Memos are Classified, I did not Declassify them. They belong to our Government! Therefore, he broke tâ€¦ https://t.co/Qw0POMocIy\n",
      "\n"
     ]
    }
   ],
   "source": [
    "extractor = twitter_setup()\n",
    "tweets = extractor.user_timeline(screen_name = \"realDonaldTrump\", count = 200)\n",
    "print(\"Number of tweets extracted : {}.\\n\".format(len(tweets)))\n",
    "\n",
    "print(\"5 recent tweets :\\n\")\n",
    "for tweet in tweets[:5]:\n",
    "    print(tweet.text)\n",
    "    print()"
   ]
  },
  {
   "cell_type": "code",
   "execution_count": 5,
   "metadata": {},
   "outputs": [
    {
     "data": {
      "text/html": [
       "<div>\n",
       "<style scoped>\n",
       "    .dataframe tbody tr th:only-of-type {\n",
       "        vertical-align: middle;\n",
       "    }\n",
       "\n",
       "    .dataframe tbody tr th {\n",
       "        vertical-align: top;\n",
       "    }\n",
       "\n",
       "    .dataframe thead th {\n",
       "        text-align: right;\n",
       "    }\n",
       "</style>\n",
       "<table border=\"1\" class=\"dataframe\">\n",
       "  <thead>\n",
       "    <tr style=\"text-align: right;\">\n",
       "      <th></th>\n",
       "      <th>Tweets</th>\n",
       "    </tr>\n",
       "  </thead>\n",
       "  <tbody>\n",
       "    <tr>\n",
       "      <th>0</th>\n",
       "      <td>â€œGOP Lawmakers asking Sessions to Investigate ...</td>\n",
       "    </tr>\n",
       "    <tr>\n",
       "      <th>1</th>\n",
       "      <td>â€œAt least two Memos Comey shared with a friend...</td>\n",
       "    </tr>\n",
       "    <tr>\n",
       "      <th>2</th>\n",
       "      <td>RT @dmartosko: The same can be said of the \"co...</td>\n",
       "    </tr>\n",
       "    <tr>\n",
       "      <th>3</th>\n",
       "      <td>The Washington Post said I refer to Jeff Sessi...</td>\n",
       "    </tr>\n",
       "    <tr>\n",
       "      <th>4</th>\n",
       "      <td>James Comeyâ€™s Memos are Classified, I did not ...</td>\n",
       "    </tr>\n",
       "    <tr>\n",
       "      <th>5</th>\n",
       "      <td>Sylvester Stallone called me with the story of...</td>\n",
       "    </tr>\n",
       "    <tr>\n",
       "      <th>6</th>\n",
       "      <td>So funny, the Democrats have sued the Republic...</td>\n",
       "    </tr>\n",
       "    <tr>\n",
       "      <th>7</th>\n",
       "      <td>Heading to the Southern White House to watch t...</td>\n",
       "    </tr>\n",
       "    <tr>\n",
       "      <th>8</th>\n",
       "      <td>Today, my thoughts and prayers are with the en...</td>\n",
       "    </tr>\n",
       "    <tr>\n",
       "      <th>9</th>\n",
       "      <td>Fantastic crowd and great people yesterday in ...</td>\n",
       "    </tr>\n",
       "  </tbody>\n",
       "</table>\n",
       "</div>"
      ],
      "text/plain": [
       "                                              Tweets\n",
       "0  â€œGOP Lawmakers asking Sessions to Investigate ...\n",
       "1  â€œAt least two Memos Comey shared with a friend...\n",
       "2  RT @dmartosko: The same can be said of the \"co...\n",
       "3  The Washington Post said I refer to Jeff Sessi...\n",
       "4  James Comeyâ€™s Memos are Classified, I did not ...\n",
       "5  Sylvester Stallone called me with the story of...\n",
       "6  So funny, the Democrats have sued the Republic...\n",
       "7  Heading to the Southern White House to watch t...\n",
       "8  Today, my thoughts and prayers are with the en...\n",
       "9  Fantastic crowd and great people yesterday in ..."
      ]
     },
     "metadata": {},
     "output_type": "display_data"
    }
   ],
   "source": [
    "data = pd.DataFrame(data =[tweet.text for tweet in tweets], columns = ['Tweets'])\n",
    "display(data.head(10))"
   ]
  },
  {
   "cell_type": "code",
   "execution_count": 8,
   "metadata": {},
   "outputs": [
    {
     "name": "stdout",
     "output_type": "stream",
     "text": [
      "['__class__', '__delattr__', '__dict__', '__dir__', '__doc__', '__eq__', '__format__', '__ge__', '__getattribute__', '__getstate__', '__gt__', '__hash__', '__init__', '__init_subclass__', '__le__', '__lt__', '__module__', '__ne__', '__new__', '__reduce__', '__reduce_ex__', '__repr__', '__setattr__', '__sizeof__', '__str__', '__subclasshook__', '__weakref__', '_api', '_json', 'author', 'contributors', 'coordinates', 'created_at', 'destroy', 'entities', 'favorite', 'favorite_count', 'favorited', 'geo', 'id', 'id_str', 'in_reply_to_screen_name', 'in_reply_to_status_id', 'in_reply_to_status_id_str', 'in_reply_to_user_id', 'in_reply_to_user_id_str', 'is_quote_status', 'lang', 'parse', 'parse_list', 'place', 'retweet', 'retweet_count', 'retweeted', 'retweets', 'source', 'source_url', 'text', 'truncated', 'user']\n"
     ]
    }
   ],
   "source": [
    "print(dir(tweets[0]))"
   ]
  },
  {
   "cell_type": "code",
   "execution_count": 9,
   "metadata": {},
   "outputs": [],
   "source": [
    "data['len'] = np.array([len(tweet.text) for tweet in tweets])\n",
    "data['ID'] = np.array([tweet.id for tweet in tweets])\n",
    "data['Date'] = np.array([tweet.created_at for tweet in tweets])\n",
    "data['Source'] = np.array([tweet.source for tweet in tweets])\n",
    "data['Likes'] = np.array([tweet.favorite_count for tweet in tweets])\n",
    "data['RTs'] = np.array([tweet.retweet_count for tweet in tweets])"
   ]
  },
  {
   "cell_type": "code",
   "execution_count": 10,
   "metadata": {},
   "outputs": [
    {
     "data": {
      "text/html": [
       "<div>\n",
       "<style scoped>\n",
       "    .dataframe tbody tr th:only-of-type {\n",
       "        vertical-align: middle;\n",
       "    }\n",
       "\n",
       "    .dataframe tbody tr th {\n",
       "        vertical-align: top;\n",
       "    }\n",
       "\n",
       "    .dataframe thead th {\n",
       "        text-align: right;\n",
       "    }\n",
       "</style>\n",
       "<table border=\"1\" class=\"dataframe\">\n",
       "  <thead>\n",
       "    <tr style=\"text-align: right;\">\n",
       "      <th></th>\n",
       "      <th>Tweets</th>\n",
       "      <th>len</th>\n",
       "      <th>ID</th>\n",
       "      <th>Date</th>\n",
       "      <th>Source</th>\n",
       "      <th>Likes</th>\n",
       "      <th>RTs</th>\n",
       "    </tr>\n",
       "  </thead>\n",
       "  <tbody>\n",
       "    <tr>\n",
       "      <th>0</th>\n",
       "      <td>â€œGOP Lawmakers asking Sessions to Investigate ...</td>\n",
       "      <td>113</td>\n",
       "      <td>988030312088260608</td>\n",
       "      <td>2018-04-22 12:22:37</td>\n",
       "      <td>Twitter for iPhone</td>\n",
       "      <td>6209</td>\n",
       "      <td>1668</td>\n",
       "    </tr>\n",
       "    <tr>\n",
       "      <th>1</th>\n",
       "      <td>â€œAt least two Memos Comey shared with a friend...</td>\n",
       "      <td>102</td>\n",
       "      <td>987820963038449664</td>\n",
       "      <td>2018-04-21 22:30:45</td>\n",
       "      <td>Twitter for iPhone</td>\n",
       "      <td>61461</td>\n",
       "      <td>16113</td>\n",
       "    </tr>\n",
       "    <tr>\n",
       "      <th>2</th>\n",
       "      <td>RT @dmartosko: The same can be said of the \"co...</td>\n",
       "      <td>85</td>\n",
       "      <td>987820268402946049</td>\n",
       "      <td>2018-04-21 22:27:59</td>\n",
       "      <td>Twitter for iPhone</td>\n",
       "      <td>0</td>\n",
       "      <td>5020</td>\n",
       "    </tr>\n",
       "    <tr>\n",
       "      <th>3</th>\n",
       "      <td>The Washington Post said I refer to Jeff Sessi...</td>\n",
       "      <td>140</td>\n",
       "      <td>987786331995672576</td>\n",
       "      <td>2018-04-21 20:13:08</td>\n",
       "      <td>Twitter for iPhone</td>\n",
       "      <td>49247</td>\n",
       "      <td>13385</td>\n",
       "    </tr>\n",
       "    <tr>\n",
       "      <th>4</th>\n",
       "      <td>James Comeyâ€™s Memos are Classified, I did not ...</td>\n",
       "      <td>140</td>\n",
       "      <td>987774054651301888</td>\n",
       "      <td>2018-04-21 19:24:21</td>\n",
       "      <td>Twitter for iPhone</td>\n",
       "      <td>54606</td>\n",
       "      <td>15612</td>\n",
       "    </tr>\n",
       "    <tr>\n",
       "      <th>5</th>\n",
       "      <td>Sylvester Stallone called me with the story of...</td>\n",
       "      <td>140</td>\n",
       "      <td>987768453338673152</td>\n",
       "      <td>2018-04-21 19:02:05</td>\n",
       "      <td>Twitter for iPhone</td>\n",
       "      <td>75043</td>\n",
       "      <td>16694</td>\n",
       "    </tr>\n",
       "    <tr>\n",
       "      <th>6</th>\n",
       "      <td>So funny, the Democrats have sued the Republic...</td>\n",
       "      <td>140</td>\n",
       "      <td>987766033862873091</td>\n",
       "      <td>2018-04-21 18:52:28</td>\n",
       "      <td>Twitter for iPhone</td>\n",
       "      <td>73693</td>\n",
       "      <td>19060</td>\n",
       "    </tr>\n",
       "    <tr>\n",
       "      <th>7</th>\n",
       "      <td>Heading to the Southern White House to watch t...</td>\n",
       "      <td>140</td>\n",
       "      <td>987719560282476546</td>\n",
       "      <td>2018-04-21 15:47:48</td>\n",
       "      <td>Twitter for iPhone</td>\n",
       "      <td>66449</td>\n",
       "      <td>10790</td>\n",
       "    </tr>\n",
       "    <tr>\n",
       "      <th>8</th>\n",
       "      <td>Today, my thoughts and prayers are with the en...</td>\n",
       "      <td>140</td>\n",
       "      <td>987718953886679047</td>\n",
       "      <td>2018-04-21 15:45:24</td>\n",
       "      <td>Twitter for iPhone</td>\n",
       "      <td>64703</td>\n",
       "      <td>11304</td>\n",
       "    </tr>\n",
       "    <tr>\n",
       "      <th>9</th>\n",
       "      <td>Fantastic crowd and great people yesterday in ...</td>\n",
       "      <td>99</td>\n",
       "      <td>987718832096768001</td>\n",
       "      <td>2018-04-21 15:44:55</td>\n",
       "      <td>Twitter for iPhone</td>\n",
       "      <td>55926</td>\n",
       "      <td>12115</td>\n",
       "    </tr>\n",
       "  </tbody>\n",
       "</table>\n",
       "</div>"
      ],
      "text/plain": [
       "                                              Tweets  len                  ID  \\\n",
       "0  â€œGOP Lawmakers asking Sessions to Investigate ...  113  988030312088260608   \n",
       "1  â€œAt least two Memos Comey shared with a friend...  102  987820963038449664   \n",
       "2  RT @dmartosko: The same can be said of the \"co...   85  987820268402946049   \n",
       "3  The Washington Post said I refer to Jeff Sessi...  140  987786331995672576   \n",
       "4  James Comeyâ€™s Memos are Classified, I did not ...  140  987774054651301888   \n",
       "5  Sylvester Stallone called me with the story of...  140  987768453338673152   \n",
       "6  So funny, the Democrats have sued the Republic...  140  987766033862873091   \n",
       "7  Heading to the Southern White House to watch t...  140  987719560282476546   \n",
       "8  Today, my thoughts and prayers are with the en...  140  987718953886679047   \n",
       "9  Fantastic crowd and great people yesterday in ...   99  987718832096768001   \n",
       "\n",
       "                 Date              Source  Likes    RTs  \n",
       "0 2018-04-22 12:22:37  Twitter for iPhone   6209   1668  \n",
       "1 2018-04-21 22:30:45  Twitter for iPhone  61461  16113  \n",
       "2 2018-04-21 22:27:59  Twitter for iPhone      0   5020  \n",
       "3 2018-04-21 20:13:08  Twitter for iPhone  49247  13385  \n",
       "4 2018-04-21 19:24:21  Twitter for iPhone  54606  15612  \n",
       "5 2018-04-21 19:02:05  Twitter for iPhone  75043  16694  \n",
       "6 2018-04-21 18:52:28  Twitter for iPhone  73693  19060  \n",
       "7 2018-04-21 15:47:48  Twitter for iPhone  66449  10790  \n",
       "8 2018-04-21 15:45:24  Twitter for iPhone  64703  11304  \n",
       "9 2018-04-21 15:44:55  Twitter for iPhone  55926  12115  "
      ]
     },
     "metadata": {},
     "output_type": "display_data"
    }
   ],
   "source": [
    "display(data.head(10))"
   ]
  },
  {
   "cell_type": "code",
   "execution_count": 13,
   "metadata": {},
   "outputs": [
    {
     "name": "stdout",
     "output_type": "stream",
     "text": [
      "The average length of every tweet is: 128.285\n",
      "The tweet with more likes is: \n",
      "HAPPY EASTER!\n",
      "The number of likes: 209232\n",
      "13 characters.\n",
      "\n",
      "The tweet with most retweets is: \n",
      "Russia vows to shoot down any and all missiles fired at Syria. Get ready Russia,  because they will be coming, niceâ€¦ https://t.co/tFXJAYDnOh\n",
      "Number of retweets: 66662\n",
      "140 characters. \n",
      "\n"
     ]
    }
   ],
   "source": [
    "mean = np.mean(data['len'])\n",
    "print(\"The average length of every tweet is: {}\".format(mean))\n",
    "\n",
    "fav_max = np.max(data['Likes']) \n",
    "rt_max = np.max(data['RTs'])\n",
    "\n",
    "fav = data[data.Likes == fav_max].index[0] \n",
    "rt = data[data.RTs == rt_max].index[0]\n",
    "\n",
    "print(\"The tweet with more likes is: \\n{}\".format(data['Tweets'][fav])) \n",
    "print(\"The number of likes: {}\".format(fav_max)) \n",
    "print(\"{} characters.\\n\".format(data['len'][fav]))\n",
    "\n",
    "print(\"The tweet with most retweets is: \\n{}\".format(data['Tweets'][rt])) \n",
    "print(\"Number of retweets: {}\".format(rt_max)) \n",
    "print(\"{} characters. \\n\".format(data['len'][rt]))\n"
   ]
  },
  {
   "cell_type": "code",
   "execution_count": 14,
   "metadata": {},
   "outputs": [],
   "source": [
    "tlen = pd.Series(data = data['len'].values, index = data['Date'])\n",
    "tfav = pd.Series(data = data['Likes'].values, index = data['Date'])\n",
    "tret = pd.Series(data = data['RTs'].values, index = data['Date'])"
   ]
  },
  {
   "cell_type": "code",
   "execution_count": 15,
   "metadata": {},
   "outputs": [
    {
     "data": {
      "text/plain": [
       "<matplotlib.axes._subplots.AxesSubplot at 0x7f33a2a187b8>"
      ]
     },
     "execution_count": 15,
     "metadata": {},
     "output_type": "execute_result"
    },
    {
     "data": {
      "image/png": "[encoded data removed]",
      "text/plain": [
       "<matplotlib.figure.Figure at 0x7f33a29abb38>"
      ]
     },
     "metadata": {},
     "output_type": "display_data"
    }
   ],
   "source": [
    "tlen.plot(figsize=(16,4),color='r')"
   ]
  },
  {
   "cell_type": "code",
   "execution_count": 16,
   "metadata": {},
   "outputs": [
    {
     "data": {
      "text/plain": [
       "<matplotlib.axes._subplots.AxesSubplot at 0x7f33a29b2e48>"
      ]
     },
     "execution_count": 16,
     "metadata": {},
     "output_type": "execute_result"
    },
    {
     "data": {
      "image/png": "[encoded data removed]",
      "text/plain": [
       "<matplotlib.figure.Figure at 0x7f33a29ab5f8>"
      ]
     },
     "metadata": {},
     "output_type": "display_data"
    }
   ],
   "source": [
    "tfav.plot(figsize=(16,4), label='Likes', legend=True)\n",
    "tret.plot(figsize=(16,4),label='Retweets',legend=True)"
   ]
  },
  {
   "cell_type": "code",
   "execution_count": 17,
   "metadata": {},
   "outputs": [],
   "source": [
    "from textblob import TextBlob\n",
    "import re"
   ]
  },
  {
   "cell_type": "code",
   "execution_count": 18,
   "metadata": {},
   "outputs": [],
   "source": [
    "def clean_tweet(tweet):\n",
    "    '''\n",
    "    Utility function to clean the text in a tweet by removing \n",
    "    links and special characters using regex.\n",
    "    '''\n",
    "    return ' '.join(re.sub(\"(@[A-Za-z0-9]+)|([^0-9A-Za-z \\t])|(\\w+:\\/\\/\\S+)\", \" \", tweet).split())\n",
    "\n",
    "def analize_sentiment(tweet):\n",
    "    analysis = TextBlob(clean_tweet(tweet))\n",
    "    if analysis.sentiment.polarity > 0:\n",
    "        return 1\n",
    "    elif analysis.sentiment.polarity == 0:\n",
    "        return 0\n",
    "    else:\n",
    "        return -1"
   ]
  },
  {
   "cell_type": "code",
   "execution_count": 19,
   "metadata": {},
   "outputs": [
    {
     "data": {
      "text/html": [
       "<div>\n",
       "<style scoped>\n",
       "    .dataframe tbody tr th:only-of-type {\n",
       "        vertical-align: middle;\n",
       "    }\n",
       "\n",
       "    .dataframe tbody tr th {\n",
       "        vertical-align: top;\n",
       "    }\n",
       "\n",
       "    .dataframe thead th {\n",
       "        text-align: right;\n",
       "    }\n",
       "</style>\n",
       "<table border=\"1\" class=\"dataframe\">\n",
       "  <thead>\n",
       "    <tr style=\"text-align: right;\">\n",
       "      <th></th>\n",
       "      <th>Tweets</th>\n",
       "      <th>len</th>\n",
       "      <th>ID</th>\n",
       "      <th>Date</th>\n",
       "      <th>Source</th>\n",
       "      <th>Likes</th>\n",
       "      <th>RTs</th>\n",
       "      <th>SA</th>\n",
       "    </tr>\n",
       "  </thead>\n",
       "  <tbody>\n",
       "    <tr>\n",
       "      <th>0</th>\n",
       "      <td>â€œGOP Lawmakers asking Sessions to Investigate ...</td>\n",
       "      <td>113</td>\n",
       "      <td>988030312088260608</td>\n",
       "      <td>2018-04-22 12:22:37</td>\n",
       "      <td>Twitter for iPhone</td>\n",
       "      <td>6209</td>\n",
       "      <td>1668</td>\n",
       "      <td>1</td>\n",
       "    </tr>\n",
       "    <tr>\n",
       "      <th>1</th>\n",
       "      <td>â€œAt least two Memos Comey shared with a friend...</td>\n",
       "      <td>102</td>\n",
       "      <td>987820963038449664</td>\n",
       "      <td>2018-04-21 22:30:45</td>\n",
       "      <td>Twitter for iPhone</td>\n",
       "      <td>61461</td>\n",
       "      <td>16113</td>\n",
       "      <td>-1</td>\n",
       "    </tr>\n",
       "    <tr>\n",
       "      <th>2</th>\n",
       "      <td>RT @dmartosko: The same can be said of the \"co...</td>\n",
       "      <td>85</td>\n",
       "      <td>987820268402946049</td>\n",
       "      <td>2018-04-21 22:27:59</td>\n",
       "      <td>Twitter for iPhone</td>\n",
       "      <td>0</td>\n",
       "      <td>5020</td>\n",
       "      <td>0</td>\n",
       "    </tr>\n",
       "    <tr>\n",
       "      <th>3</th>\n",
       "      <td>The Washington Post said I refer to Jeff Sessi...</td>\n",
       "      <td>140</td>\n",
       "      <td>987786331995672576</td>\n",
       "      <td>2018-04-21 20:13:08</td>\n",
       "      <td>Twitter for iPhone</td>\n",
       "      <td>49247</td>\n",
       "      <td>13385</td>\n",
       "      <td>0</td>\n",
       "    </tr>\n",
       "    <tr>\n",
       "      <th>4</th>\n",
       "      <td>James Comeyâ€™s Memos are Classified, I did not ...</td>\n",
       "      <td>140</td>\n",
       "      <td>987774054651301888</td>\n",
       "      <td>2018-04-21 19:24:21</td>\n",
       "      <td>Twitter for iPhone</td>\n",
       "      <td>54606</td>\n",
       "      <td>15612</td>\n",
       "      <td>0</td>\n",
       "    </tr>\n",
       "    <tr>\n",
       "      <th>5</th>\n",
       "      <td>Sylvester Stallone called me with the story of...</td>\n",
       "      <td>140</td>\n",
       "      <td>987768453338673152</td>\n",
       "      <td>2018-04-21 19:02:05</td>\n",
       "      <td>Twitter for iPhone</td>\n",
       "      <td>75043</td>\n",
       "      <td>16694</td>\n",
       "      <td>0</td>\n",
       "    </tr>\n",
       "    <tr>\n",
       "      <th>6</th>\n",
       "      <td>So funny, the Democrats have sued the Republic...</td>\n",
       "      <td>140</td>\n",
       "      <td>987766033862873091</td>\n",
       "      <td>2018-04-21 18:52:28</td>\n",
       "      <td>Twitter for iPhone</td>\n",
       "      <td>73693</td>\n",
       "      <td>19060</td>\n",
       "      <td>1</td>\n",
       "    </tr>\n",
       "    <tr>\n",
       "      <th>7</th>\n",
       "      <td>Heading to the Southern White House to watch t...</td>\n",
       "      <td>140</td>\n",
       "      <td>987719560282476546</td>\n",
       "      <td>2018-04-21 15:47:48</td>\n",
       "      <td>Twitter for iPhone</td>\n",
       "      <td>66449</td>\n",
       "      <td>10790</td>\n",
       "      <td>1</td>\n",
       "    </tr>\n",
       "    <tr>\n",
       "      <th>8</th>\n",
       "      <td>Today, my thoughts and prayers are with the en...</td>\n",
       "      <td>140</td>\n",
       "      <td>987718953886679047</td>\n",
       "      <td>2018-04-21 15:45:24</td>\n",
       "      <td>Twitter for iPhone</td>\n",
       "      <td>64703</td>\n",
       "      <td>11304</td>\n",
       "      <td>1</td>\n",
       "    </tr>\n",
       "    <tr>\n",
       "      <th>9</th>\n",
       "      <td>Fantastic crowd and great people yesterday in ...</td>\n",
       "      <td>99</td>\n",
       "      <td>987718832096768001</td>\n",
       "      <td>2018-04-21 15:44:55</td>\n",
       "      <td>Twitter for iPhone</td>\n",
       "      <td>55926</td>\n",
       "      <td>12115</td>\n",
       "      <td>1</td>\n",
       "    </tr>\n",
       "  </tbody>\n",
       "</table>\n",
       "</div>"
      ],
      "text/plain": [
       "                                              Tweets  len                  ID  \\\n",
       "0  â€œGOP Lawmakers asking Sessions to Investigate ...  113  988030312088260608   \n",
       "1  â€œAt least two Memos Comey shared with a friend...  102  987820963038449664   \n",
       "2  RT @dmartosko: The same can be said of the \"co...   85  987820268402946049   \n",
       "3  The Washington Post said I refer to Jeff Sessi...  140  987786331995672576   \n",
       "4  James Comeyâ€™s Memos are Classified, I did not ...  140  987774054651301888   \n",
       "5  Sylvester Stallone called me with the story of...  140  987768453338673152   \n",
       "6  So funny, the Democrats have sued the Republic...  140  987766033862873091   \n",
       "7  Heading to the Southern White House to watch t...  140  987719560282476546   \n",
       "8  Today, my thoughts and prayers are with the en...  140  987718953886679047   \n",
       "9  Fantastic crowd and great people yesterday in ...   99  987718832096768001   \n",
       "\n",
       "                 Date              Source  Likes    RTs  SA  \n",
       "0 2018-04-22 12:22:37  Twitter for iPhone   6209   1668   1  \n",
       "1 2018-04-21 22:30:45  Twitter for iPhone  61461  16113  -1  \n",
       "2 2018-04-21 22:27:59  Twitter for iPhone      0   5020   0  \n",
       "3 2018-04-21 20:13:08  Twitter for iPhone  49247  13385   0  \n",
       "4 2018-04-21 19:24:21  Twitter for iPhone  54606  15612   0  \n",
       "5 2018-04-21 19:02:05  Twitter for iPhone  75043  16694   0  \n",
       "6 2018-04-21 18:52:28  Twitter for iPhone  73693  19060   1  \n",
       "7 2018-04-21 15:47:48  Twitter for iPhone  66449  10790   1  \n",
       "8 2018-04-21 15:45:24  Twitter for iPhone  64703  11304   1  \n",
       "9 2018-04-21 15:44:55  Twitter for iPhone  55926  12115   1  "
      ]
     },
     "metadata": {},
     "output_type": "display_data"
    }
   ],
   "source": [
    "data['SA'] = np.array([analize_sentiment(tweet) for tweet in data['Tweets']])\n",
    "display(data.head(10))"
   ]
  },
  {
   "cell_type": "code",
   "execution_count": 20,
   "metadata": {},
   "outputs": [],
   "source": [
    "pos_tweets = [tweet for index, tweet in enumerate(data['Tweets']) if data['SA'][index] > 0]\n",
    "neu_tweets = [tweet for index, tweet in enumerate(data['Tweets']) if data['SA'][index] == 0]\n",
    "neg_tweets = [tweet for index, tweet in enumerate(data['Tweets']) if data['SA'][index] < 0]"
   ]
  },
  {
   "cell_type": "code",
   "execution_count": 22,
   "metadata": {},
   "outputs": [
    {
     "name": "stdout",
     "output_type": "stream",
     "text": [
      "Percentage of Positive Tweets : 49.0%\n"
     ]
    }
   ],
   "source": [
    "print(\"Percentage of Positive Tweets : {}%\".format(len(pos_tweets) / len(data['Tweets']) * 100))"
   ]
  },
  {
   "cell_type": "code",
   "execution_count": 23,
   "metadata": {},
   "outputs": [
    {
     "name": "stdout",
     "output_type": "stream",
     "text": [
      "Percentage of Neutral Tweets : 23.0%\n",
      "Percentage of Negative Tweets : 28.000000000000004%\n"
     ]
    }
   ],
   "source": [
    "print(\"Percentage of Neutral Tweets : {}%\".format(len(neu_tweets) / len(data['Tweets']) * 100))\n",
    "print(\"Percentage of Negative Tweets : {}%\".format(len(neg_tweets) / len(data['Tweets']) * 100))"
   ]
  },
  {
   "cell_type": "code",
   "execution_count": 24,
   "metadata": {},
   "outputs": [],
   "source": [
    "import os\n",
    "import pymongo\n",
    "import json"
   ]
  },
  {
   "cell_type": "code",
   "execution_count": 25,
   "metadata": {},
   "outputs": [],
   "source": [
    "mng_client = pymongo.MongoClient('localhost',27017)\n",
    "mng_db = mng_client['TwitterData']\n",
    "collection_name = 'sentimentAnalysisData'\n",
    "db_cm = mng_db[collection_name]"
   ]
  },
  {
   "cell_type": "code",
   "execution_count": 27,
   "metadata": {},
   "outputs": [
    {
     "data": {
      "text/plain": [
       "<pymongo.results.InsertManyResult at 0x7f33b3b7ae88>"
      ]
     },
     "execution_count": 27,
     "metadata": {},
     "output_type": "execute_result"
    }
   ],
   "source": [
    "data_json = json.loads(data.to_json(orient='records'))\n",
    "db_cm.remove\n",
    "db_cm.insert_many(data_json)"
   ]
  },
  {
   "cell_type": "code",
   "execution_count": null,
   "metadata": {},
   "outputs": [],
   "source": []
  }
 ],
 "metadata": {
  "kernelspec": {
   "display_name": "Python 3",
   "language": "python",
   "name": "python3"
  },
  "language_info": {
   "codemirror_mode": {
    "name": "ipython",
    "version": 3
   },
   "file_extension": ".py",
   "mimetype": "text/x-python",
   "name": "python",
   "nbconvert_exporter": "python",
   "pygments_lexer": "ipython3",
   "version": "3.6.4"
  }
 },
 "nbformat": 4,
 "nbformat_minor": 2
}
