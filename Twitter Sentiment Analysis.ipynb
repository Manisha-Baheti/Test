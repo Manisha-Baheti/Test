{
 "cells": [
  {
   "cell_type": "code",
   "execution_count": 33,
   "metadata": {},
   "outputs": [],
   "source": [
    "import tweepy\n",
    "import pandas as pd\n",
    "import numpy as np\n",
    "from IPython.display import display\n",
    "import matplotlib.pyplot as plt\n",
    "import seaborn as sns"
   ]
  },
  {
   "cell_type": "code",
   "execution_count": 34,
   "metadata": {},
   "outputs": [],
   "source": [
    "from credentials import *"
   ]
  },
  {
   "cell_type": "code",
   "execution_count": 35,
   "metadata": {},
   "outputs": [],
   "source": [
    "def twitter_setup():\n",
    "    auth = tweepy.OAuthHandler(CONSUMER_KEY,CONSUMER_SECRET)\n",
    "    auth.set_access_token(ACCESS_TOKEN,ACCESS_SECRET)\n",
    "    api = tweepy.API(auth)\n",
    "    return api   \n"
   ]
  },
  {
   "cell_type": "code",
   "execution_count": 36,
   "metadata": {},
   "outputs": [
    {
     "name": "stdout",
     "output_type": "stream",
     "text": [
      "Number of tweets extracted : 200.\n",
      "\n",
      "5 recent tweets :\n",
      "\n",
      "I thank the wonderful people of Leh for the warm welcome. I am delighted to be here. https://t.co/XmogPkc64v\n",
      "\n",
      "Birthday greetings to Mr. Lal Thanhawla, the Chief Minister of Mizoram. May he be blessed with wonderful health and a long life.\n",
      "\n",
      "Birthday greetings to my valued colleague and senior leader Shri Thaawarchand Gehlot Ji. Thaawarchand Ji is at the… https://t.co/MpdhqNWNAg\n",
      "\n",
      "Spoke to our former Prime Minister Shri HD Deve Gowda Ji and conveyed birthday wishes to him. I pray for his good health and long life.\n",
      "\n",
      "Ramzan greetings to everyone. We recall the pious thoughts of Paighambar Mohammad Sahab, who highlighted the import… https://t.co/EYhztmgP31\n",
      "\n"
     ]
    }
   ],
   "source": [
    "extractor = twitter_setup()\n",
    "tweets = extractor.user_timeline(screen_name = \"narendramodi\", count = 200)\n",
    "print(\"Number of tweets extracted : {}.\\n\".format(len(tweets)))\n",
    "\n",
    "print(\"5 recent tweets :\\n\")\n",
    "for tweet in tweets[:5]:\n",
    "    print(tweet.text)\n",
    "    print()"
   ]
  },
  {
   "cell_type": "code",
   "execution_count": 37,
   "metadata": {},
   "outputs": [
    {
     "data": {
      "text/html": [
       "<div>\n",
       "<style scoped>\n",
       "    .dataframe tbody tr th:only-of-type {\n",
       "        vertical-align: middle;\n",
       "    }\n",
       "\n",
       "    .dataframe tbody tr th {\n",
       "        vertical-align: top;\n",
       "    }\n",
       "\n",
       "    .dataframe thead th {\n",
       "        text-align: right;\n",
       "    }\n",
       "</style>\n",
       "<table border=\"1\" class=\"dataframe\">\n",
       "  <thead>\n",
       "    <tr style=\"text-align: right;\">\n",
       "      <th></th>\n",
       "      <th>Tweets</th>\n",
       "    </tr>\n",
       "  </thead>\n",
       "  <tbody>\n",
       "    <tr>\n",
       "      <th>0</th>\n",
       "      <td>I thank the wonderful people of Leh for the wa...</td>\n",
       "    </tr>\n",
       "    <tr>\n",
       "      <th>1</th>\n",
       "      <td>Birthday greetings to Mr. Lal Thanhawla, the C...</td>\n",
       "    </tr>\n",
       "    <tr>\n",
       "      <th>2</th>\n",
       "      <td>Birthday greetings to my valued colleague and ...</td>\n",
       "    </tr>\n",
       "    <tr>\n",
       "      <th>3</th>\n",
       "      <td>Spoke to our former Prime Minister Shri HD Dev...</td>\n",
       "    </tr>\n",
       "    <tr>\n",
       "      <th>4</th>\n",
       "      <td>Ramzan greetings to everyone. We recall the pi...</td>\n",
       "    </tr>\n",
       "    <tr>\n",
       "      <th>5</th>\n",
       "      <td>سبھی کو مقدس ماہِ رمضان کی مبارکباد ! ہم پیغمب...</td>\n",
       "    </tr>\n",
       "    <tr>\n",
       "      <th>6</th>\n",
       "      <td>I congratulate my sisters and brothers of Jhar...</td>\n",
       "    </tr>\n",
       "    <tr>\n",
       "      <th>7</th>\n",
       "      <td>We are committed to the welfare of our farmers...</td>\n",
       "    </tr>\n",
       "    <tr>\n",
       "      <th>8</th>\n",
       "      <td>The proposed National Institute of Mental Heal...</td>\n",
       "    </tr>\n",
       "    <tr>\n",
       "      <th>9</th>\n",
       "      <td>A decision that will benefit the people of Noi...</td>\n",
       "    </tr>\n",
       "  </tbody>\n",
       "</table>\n",
       "</div>"
      ],
      "text/plain": [
       "                                              Tweets\n",
       "0  I thank the wonderful people of Leh for the wa...\n",
       "1  Birthday greetings to Mr. Lal Thanhawla, the C...\n",
       "2  Birthday greetings to my valued colleague and ...\n",
       "3  Spoke to our former Prime Minister Shri HD Dev...\n",
       "4  Ramzan greetings to everyone. We recall the pi...\n",
       "5  سبھی کو مقدس ماہِ رمضان کی مبارکباد ! ہم پیغمب...\n",
       "6  I congratulate my sisters and brothers of Jhar...\n",
       "7  We are committed to the welfare of our farmers...\n",
       "8  The proposed National Institute of Mental Heal...\n",
       "9  A decision that will benefit the people of Noi..."
      ]
     },
     "metadata": {},
     "output_type": "display_data"
    }
   ],
   "source": [
    "data = pd.DataFrame(data =[tweet.text for tweet in tweets], columns = ['Tweets'])\n",
    "display(data.head(10))"
   ]
  },
  {
   "cell_type": "code",
   "execution_count": 38,
   "metadata": {},
   "outputs": [
    {
     "name": "stdout",
     "output_type": "stream",
     "text": [
      "['__class__', '__delattr__', '__dict__', '__dir__', '__doc__', '__eq__', '__format__', '__ge__', '__getattribute__', '__getstate__', '__gt__', '__hash__', '__init__', '__init_subclass__', '__le__', '__lt__', '__module__', '__ne__', '__new__', '__reduce__', '__reduce_ex__', '__repr__', '__setattr__', '__sizeof__', '__str__', '__subclasshook__', '__weakref__', '_api', '_json', 'author', 'contributors', 'coordinates', 'created_at', 'destroy', 'entities', 'extended_entities', 'favorite', 'favorite_count', 'favorited', 'geo', 'id', 'id_str', 'in_reply_to_screen_name', 'in_reply_to_status_id', 'in_reply_to_status_id_str', 'in_reply_to_user_id', 'in_reply_to_user_id_str', 'is_quote_status', 'lang', 'parse', 'parse_list', 'place', 'possibly_sensitive', 'retweet', 'retweet_count', 'retweeted', 'retweets', 'source', 'source_url', 'text', 'truncated', 'user']\n"
     ]
    }
   ],
   "source": [
    "print(dir(tweets[0]))"
   ]
  },
  {
   "cell_type": "code",
   "execution_count": 39,
   "metadata": {},
   "outputs": [],
   "source": [
    "data['len'] = np.array([len(tweet.text) for tweet in tweets])\n",
    "data['ID'] = np.array([tweet.id for tweet in tweets])\n",
    "data['Date'] = np.array([tweet.created_at for tweet in tweets])\n",
    "data['Source'] = np.array([tweet.source for tweet in tweets])\n",
    "data['Likes'] = np.array([tweet.favorite_count for tweet in tweets])\n",
    "data['RTs'] = np.array([tweet.retweet_count for tweet in tweets])"
   ]
  },
  {
   "cell_type": "code",
   "execution_count": 40,
   "metadata": {},
   "outputs": [
    {
     "data": {
      "text/html": [
       "<div>\n",
       "<style scoped>\n",
       "    .dataframe tbody tr th:only-of-type {\n",
       "        vertical-align: middle;\n",
       "    }\n",
       "\n",
       "    .dataframe tbody tr th {\n",
       "        vertical-align: top;\n",
       "    }\n",
       "\n",
       "    .dataframe thead th {\n",
       "        text-align: right;\n",
       "    }\n",
       "</style>\n",
       "<table border=\"1\" class=\"dataframe\">\n",
       "  <thead>\n",
       "    <tr style=\"text-align: right;\">\n",
       "      <th></th>\n",
       "      <th>Tweets</th>\n",
       "      <th>len</th>\n",
       "      <th>ID</th>\n",
       "      <th>Date</th>\n",
       "      <th>Source</th>\n",
       "      <th>Likes</th>\n",
       "      <th>RTs</th>\n",
       "    </tr>\n",
       "  </thead>\n",
       "  <tbody>\n",
       "    <tr>\n",
       "      <th>0</th>\n",
       "      <td>I thank the wonderful people of Leh for the wa...</td>\n",
       "      <td>108</td>\n",
       "      <td>997696358378287104</td>\n",
       "      <td>2018-05-19 04:32:02</td>\n",
       "      <td>Twitter for iPhone</td>\n",
       "      <td>5410</td>\n",
       "      <td>1048</td>\n",
       "    </tr>\n",
       "    <tr>\n",
       "      <th>1</th>\n",
       "      <td>Birthday greetings to Mr. Lal Thanhawla, the C...</td>\n",
       "      <td>128</td>\n",
       "      <td>997685817135923200</td>\n",
       "      <td>2018-05-19 03:50:09</td>\n",
       "      <td>Twitter for iPhone</td>\n",
       "      <td>7573</td>\n",
       "      <td>1126</td>\n",
       "    </tr>\n",
       "    <tr>\n",
       "      <th>2</th>\n",
       "      <td>Birthday greetings to my valued colleague and ...</td>\n",
       "      <td>139</td>\n",
       "      <td>997326300124667904</td>\n",
       "      <td>2018-05-18 04:01:34</td>\n",
       "      <td>Twitter for iPhone</td>\n",
       "      <td>12113</td>\n",
       "      <td>2067</td>\n",
       "    </tr>\n",
       "    <tr>\n",
       "      <th>3</th>\n",
       "      <td>Spoke to our former Prime Minister Shri HD Dev...</td>\n",
       "      <td>135</td>\n",
       "      <td>997324954013126656</td>\n",
       "      <td>2018-05-18 03:56:13</td>\n",
       "      <td>Twitter for iPhone</td>\n",
       "      <td>37521</td>\n",
       "      <td>6238</td>\n",
       "    </tr>\n",
       "    <tr>\n",
       "      <th>4</th>\n",
       "      <td>Ramzan greetings to everyone. We recall the pi...</td>\n",
       "      <td>140</td>\n",
       "      <td>997063852352245761</td>\n",
       "      <td>2018-05-17 10:38:41</td>\n",
       "      <td>Twitter Web Client</td>\n",
       "      <td>13691</td>\n",
       "      <td>2844</td>\n",
       "    </tr>\n",
       "    <tr>\n",
       "      <th>5</th>\n",
       "      <td>سبھی کو مقدس ماہِ رمضان کی مبارکباد ! ہم پیغمب...</td>\n",
       "      <td>140</td>\n",
       "      <td>997063547036168192</td>\n",
       "      <td>2018-05-17 10:37:28</td>\n",
       "      <td>Twitter Web Client</td>\n",
       "      <td>9570</td>\n",
       "      <td>2052</td>\n",
       "    </tr>\n",
       "    <tr>\n",
       "      <th>6</th>\n",
       "      <td>I congratulate my sisters and brothers of Jhar...</td>\n",
       "      <td>140</td>\n",
       "      <td>996755246012563458</td>\n",
       "      <td>2018-05-16 14:12:24</td>\n",
       "      <td>Twitter for iPhone</td>\n",
       "      <td>17068</td>\n",
       "      <td>3470</td>\n",
       "    </tr>\n",
       "    <tr>\n",
       "      <th>7</th>\n",
       "      <td>We are committed to the welfare of our farmers...</td>\n",
       "      <td>125</td>\n",
       "      <td>996754150175240197</td>\n",
       "      <td>2018-05-16 14:08:02</td>\n",
       "      <td>Twitter for iPhone</td>\n",
       "      <td>8798</td>\n",
       "      <td>1886</td>\n",
       "    </tr>\n",
       "    <tr>\n",
       "      <th>8</th>\n",
       "      <td>The proposed National Institute of Mental Heal...</td>\n",
       "      <td>140</td>\n",
       "      <td>996753488683192320</td>\n",
       "      <td>2018-05-16 14:05:25</td>\n",
       "      <td>Twitter for iPhone</td>\n",
       "      <td>9470</td>\n",
       "      <td>2075</td>\n",
       "    </tr>\n",
       "    <tr>\n",
       "      <th>9</th>\n",
       "      <td>A decision that will benefit the people of Noi...</td>\n",
       "      <td>104</td>\n",
       "      <td>996752901434462208</td>\n",
       "      <td>2018-05-16 14:03:05</td>\n",
       "      <td>Twitter for iPhone</td>\n",
       "      <td>7737</td>\n",
       "      <td>1750</td>\n",
       "    </tr>\n",
       "  </tbody>\n",
       "</table>\n",
       "</div>"
      ],
      "text/plain": [
       "                                              Tweets  len                  ID  \\\n",
       "0  I thank the wonderful people of Leh for the wa...  108  997696358378287104   \n",
       "1  Birthday greetings to Mr. Lal Thanhawla, the C...  128  997685817135923200   \n",
       "2  Birthday greetings to my valued colleague and ...  139  997326300124667904   \n",
       "3  Spoke to our former Prime Minister Shri HD Dev...  135  997324954013126656   \n",
       "4  Ramzan greetings to everyone. We recall the pi...  140  997063852352245761   \n",
       "5  سبھی کو مقدس ماہِ رمضان کی مبارکباد ! ہم پیغمب...  140  997063547036168192   \n",
       "6  I congratulate my sisters and brothers of Jhar...  140  996755246012563458   \n",
       "7  We are committed to the welfare of our farmers...  125  996754150175240197   \n",
       "8  The proposed National Institute of Mental Heal...  140  996753488683192320   \n",
       "9  A decision that will benefit the people of Noi...  104  996752901434462208   \n",
       "\n",
       "                 Date              Source  Likes   RTs  \n",
       "0 2018-05-19 04:32:02  Twitter for iPhone   5410  1048  \n",
       "1 2018-05-19 03:50:09  Twitter for iPhone   7573  1126  \n",
       "2 2018-05-18 04:01:34  Twitter for iPhone  12113  2067  \n",
       "3 2018-05-18 03:56:13  Twitter for iPhone  37521  6238  \n",
       "4 2018-05-17 10:38:41  Twitter Web Client  13691  2844  \n",
       "5 2018-05-17 10:37:28  Twitter Web Client   9570  2052  \n",
       "6 2018-05-16 14:12:24  Twitter for iPhone  17068  3470  \n",
       "7 2018-05-16 14:08:02  Twitter for iPhone   8798  1886  \n",
       "8 2018-05-16 14:05:25  Twitter for iPhone   9470  2075  \n",
       "9 2018-05-16 14:03:05  Twitter for iPhone   7737  1750  "
      ]
     },
     "metadata": {},
     "output_type": "display_data"
    }
   ],
   "source": [
    "display(data.head(10))"
   ]
  },
  {
   "cell_type": "code",
   "execution_count": 41,
   "metadata": {},
   "outputs": [
    {
     "name": "stdout",
     "output_type": "stream",
     "text": [
      "The average length of every tweet is: 128.78\n",
      "The tweet with more likes is: \n",
      "I thank my sisters and brothers of Karnataka for steadfastly supporting the BJP’s development agenda and making BJP… https://t.co/Pi5aJ6a0K3\n",
      "The number of likes: 44766\n",
      "140 characters.\n",
      "\n",
      "The tweet with most retweets is: \n",
      "I thank my sisters and brothers of Karnataka for steadfastly supporting the BJP’s development agenda and making BJP… https://t.co/Pi5aJ6a0K3\n",
      "Number of retweets: 10357\n",
      "140 characters. \n",
      "\n"
     ]
    }
   ],
   "source": [
    "mean = np.mean(data['len'])\n",
    "print(\"The average length of every tweet is: {}\".format(mean))\n",
    "\n",
    "fav_max = np.max(data['Likes']) \n",
    "rt_max = np.max(data['RTs'])\n",
    "\n",
    "fav = data[data.Likes == fav_max].index[0] \n",
    "rt = data[data.RTs == rt_max].index[0]\n",
    "\n",
    "print(\"The tweet with more likes is: \\n{}\".format(data['Tweets'][fav])) \n",
    "print(\"The number of likes: {}\".format(fav_max)) \n",
    "print(\"{} characters.\\n\".format(data['len'][fav]))\n",
    "\n",
    "print(\"The tweet with most retweets is: \\n{}\".format(data['Tweets'][rt])) \n",
    "print(\"Number of retweets: {}\".format(rt_max)) \n",
    "print(\"{} characters. \\n\".format(data['len'][rt]))\n"
   ]
  },
  {
   "cell_type": "code",
   "execution_count": 42,
   "metadata": {},
   "outputs": [],
   "source": [
    "tlen = pd.Series(data = data['len'].values, index = data['Date'])\n",
    "tfav = pd.Series(data = data['Likes'].values, index = data['Date'])\n",
    "tret = pd.Series(data = data['RTs'].values, index = data['Date'])"
   ]
  },
  {
   "cell_type": "code",
   "execution_count": 43,
   "metadata": {},
   "outputs": [
    {
     "data": {
      "text/plain": [
       "<matplotlib.axes._subplots.AxesSubplot at 0xb5abda0>"
      ]
     },
     "execution_count": 43,
     "metadata": {},
     "output_type": "execute_result"
    },
    {
     "data": {
      "image/png": "[encoded data removed]",
      "text/plain": [
       "<matplotlib.figure.Figure at 0xd11e4a8>"
      ]
     },
     "metadata": {},
     "output_type": "display_data"
    }
   ],
   "source": [
    "tlen.plot(figsize=(16,4),color='r')"
   ]
  },
  {
   "cell_type": "code",
   "execution_count": 44,
   "metadata": {},
   "outputs": [
    {
     "data": {
      "text/plain": [
       "<matplotlib.axes._subplots.AxesSubplot at 0xd0a7ef0>"
      ]
     },
     "execution_count": 44,
     "metadata": {},
     "output_type": "execute_result"
    },
    {
     "data": {
      "image/png": "[encoded data removed]",
      "text/plain": [
       "<matplotlib.figure.Figure at 0xd022c50>"
      ]
     },
     "metadata": {},
     "output_type": "display_data"
    }
   ],
   "source": [
    "tfav.plot(figsize=(16,4), label='Likes', legend=True)\n",
    "tret.plot(figsize=(16,4),label='Retweets',legend=True)"
   ]
  },
  {
   "cell_type": "code",
   "execution_count": 45,
   "metadata": {},
   "outputs": [],
   "source": [
    "from textblob import TextBlob\n",
    "import re"
   ]
  },
  {
   "cell_type": "code",
   "execution_count": 46,
   "metadata": {},
   "outputs": [],
   "source": [
    "def clean_tweet(tweet):\n",
    "    '''\n",
    "    Utility function to clean the text in a tweet by removing \n",
    "    links and special characters using regex.\n",
    "    '''\n",
    "    return ' '.join(re.sub(\"(@[A-Za-z0-9]+)|([^0-9A-Za-z \\t])|(\\w+:\\/\\/\\S+)\", \" \", tweet).split())\n",
    "\n",
    "def analize_sentiment(tweet):\n",
    "    analysis = TextBlob(clean_tweet(tweet))\n",
    "    if analysis.sentiment.polarity > 0:\n",
    "        return 1\n",
    "    elif analysis.sentiment.polarity == 0:\n",
    "        return 0\n",
    "    else:\n",
    "        return -1"
   ]
  },
  {
   "cell_type": "code",
   "execution_count": 47,
   "metadata": {},
   "outputs": [
    {
     "data": {
      "text/html": [
       "<div>\n",
       "<style scoped>\n",
       "    .dataframe tbody tr th:only-of-type {\n",
       "        vertical-align: middle;\n",
       "    }\n",
       "\n",
       "    .dataframe tbody tr th {\n",
       "        vertical-align: top;\n",
       "    }\n",
       "\n",
       "    .dataframe thead th {\n",
       "        text-align: right;\n",
       "    }\n",
       "</style>\n",
       "<table border=\"1\" class=\"dataframe\">\n",
       "  <thead>\n",
       "    <tr style=\"text-align: right;\">\n",
       "      <th></th>\n",
       "      <th>Tweets</th>\n",
       "      <th>len</th>\n",
       "      <th>ID</th>\n",
       "      <th>Date</th>\n",
       "      <th>Source</th>\n",
       "      <th>Likes</th>\n",
       "      <th>RTs</th>\n",
       "      <th>SA</th>\n",
       "    </tr>\n",
       "  </thead>\n",
       "  <tbody>\n",
       "    <tr>\n",
       "      <th>0</th>\n",
       "      <td>I thank the wonderful people of Leh for the wa...</td>\n",
       "      <td>108</td>\n",
       "      <td>997696358378287104</td>\n",
       "      <td>2018-05-19 04:32:02</td>\n",
       "      <td>Twitter for iPhone</td>\n",
       "      <td>5410</td>\n",
       "      <td>1048</td>\n",
       "      <td>1</td>\n",
       "    </tr>\n",
       "    <tr>\n",
       "      <th>1</th>\n",
       "      <td>Birthday greetings to Mr. Lal Thanhawla, the C...</td>\n",
       "      <td>128</td>\n",
       "      <td>997685817135923200</td>\n",
       "      <td>2018-05-19 03:50:09</td>\n",
       "      <td>Twitter for iPhone</td>\n",
       "      <td>7573</td>\n",
       "      <td>1126</td>\n",
       "      <td>1</td>\n",
       "    </tr>\n",
       "    <tr>\n",
       "      <th>2</th>\n",
       "      <td>Birthday greetings to my valued colleague and ...</td>\n",
       "      <td>139</td>\n",
       "      <td>997326300124667904</td>\n",
       "      <td>2018-05-18 04:01:34</td>\n",
       "      <td>Twitter for iPhone</td>\n",
       "      <td>12113</td>\n",
       "      <td>2067</td>\n",
       "      <td>0</td>\n",
       "    </tr>\n",
       "    <tr>\n",
       "      <th>3</th>\n",
       "      <td>Spoke to our former Prime Minister Shri HD Dev...</td>\n",
       "      <td>135</td>\n",
       "      <td>997324954013126656</td>\n",
       "      <td>2018-05-18 03:56:13</td>\n",
       "      <td>Twitter for iPhone</td>\n",
       "      <td>37521</td>\n",
       "      <td>6238</td>\n",
       "      <td>1</td>\n",
       "    </tr>\n",
       "    <tr>\n",
       "      <th>4</th>\n",
       "      <td>Ramzan greetings to everyone. We recall the pi...</td>\n",
       "      <td>140</td>\n",
       "      <td>997063852352245761</td>\n",
       "      <td>2018-05-17 10:38:41</td>\n",
       "      <td>Twitter Web Client</td>\n",
       "      <td>13691</td>\n",
       "      <td>2844</td>\n",
       "      <td>0</td>\n",
       "    </tr>\n",
       "    <tr>\n",
       "      <th>5</th>\n",
       "      <td>سبھی کو مقدس ماہِ رمضان کی مبارکباد ! ہم پیغمب...</td>\n",
       "      <td>140</td>\n",
       "      <td>997063547036168192</td>\n",
       "      <td>2018-05-17 10:37:28</td>\n",
       "      <td>Twitter Web Client</td>\n",
       "      <td>9570</td>\n",
       "      <td>2052</td>\n",
       "      <td>0</td>\n",
       "    </tr>\n",
       "    <tr>\n",
       "      <th>6</th>\n",
       "      <td>I congratulate my sisters and brothers of Jhar...</td>\n",
       "      <td>140</td>\n",
       "      <td>996755246012563458</td>\n",
       "      <td>2018-05-16 14:12:24</td>\n",
       "      <td>Twitter for iPhone</td>\n",
       "      <td>17068</td>\n",
       "      <td>3470</td>\n",
       "      <td>0</td>\n",
       "    </tr>\n",
       "    <tr>\n",
       "      <th>7</th>\n",
       "      <td>We are committed to the welfare of our farmers...</td>\n",
       "      <td>125</td>\n",
       "      <td>996754150175240197</td>\n",
       "      <td>2018-05-16 14:08:02</td>\n",
       "      <td>Twitter for iPhone</td>\n",
       "      <td>8798</td>\n",
       "      <td>1886</td>\n",
       "      <td>0</td>\n",
       "    </tr>\n",
       "    <tr>\n",
       "      <th>8</th>\n",
       "      <td>The proposed National Institute of Mental Heal...</td>\n",
       "      <td>140</td>\n",
       "      <td>996753488683192320</td>\n",
       "      <td>2018-05-16 14:05:25</td>\n",
       "      <td>Twitter for iPhone</td>\n",
       "      <td>9470</td>\n",
       "      <td>2075</td>\n",
       "      <td>-1</td>\n",
       "    </tr>\n",
       "    <tr>\n",
       "      <th>9</th>\n",
       "      <td>A decision that will benefit the people of Noi...</td>\n",
       "      <td>104</td>\n",
       "      <td>996752901434462208</td>\n",
       "      <td>2018-05-16 14:03:05</td>\n",
       "      <td>Twitter for iPhone</td>\n",
       "      <td>7737</td>\n",
       "      <td>1750</td>\n",
       "      <td>0</td>\n",
       "    </tr>\n",
       "  </tbody>\n",
       "</table>\n",
       "</div>"
      ],
      "text/plain": [
       "                                              Tweets  len                  ID  \\\n",
       "0  I thank the wonderful people of Leh for the wa...  108  997696358378287104   \n",
       "1  Birthday greetings to Mr. Lal Thanhawla, the C...  128  997685817135923200   \n",
       "2  Birthday greetings to my valued colleague and ...  139  997326300124667904   \n",
       "3  Spoke to our former Prime Minister Shri HD Dev...  135  997324954013126656   \n",
       "4  Ramzan greetings to everyone. We recall the pi...  140  997063852352245761   \n",
       "5  سبھی کو مقدس ماہِ رمضان کی مبارکباد ! ہم پیغمب...  140  997063547036168192   \n",
       "6  I congratulate my sisters and brothers of Jhar...  140  996755246012563458   \n",
       "7  We are committed to the welfare of our farmers...  125  996754150175240197   \n",
       "8  The proposed National Institute of Mental Heal...  140  996753488683192320   \n",
       "9  A decision that will benefit the people of Noi...  104  996752901434462208   \n",
       "\n",
       "                 Date              Source  Likes   RTs  SA  \n",
       "0 2018-05-19 04:32:02  Twitter for iPhone   5410  1048   1  \n",
       "1 2018-05-19 03:50:09  Twitter for iPhone   7573  1126   1  \n",
       "2 2018-05-18 04:01:34  Twitter for iPhone  12113  2067   0  \n",
       "3 2018-05-18 03:56:13  Twitter for iPhone  37521  6238   1  \n",
       "4 2018-05-17 10:38:41  Twitter Web Client  13691  2844   0  \n",
       "5 2018-05-17 10:37:28  Twitter Web Client   9570  2052   0  \n",
       "6 2018-05-16 14:12:24  Twitter for iPhone  17068  3470   0  \n",
       "7 2018-05-16 14:08:02  Twitter for iPhone   8798  1886   0  \n",
       "8 2018-05-16 14:05:25  Twitter for iPhone   9470  2075  -1  \n",
       "9 2018-05-16 14:03:05  Twitter for iPhone   7737  1750   0  "
      ]
     },
     "metadata": {},
     "output_type": "display_data"
    }
   ],
   "source": [
    "data['SA'] = np.array([analize_sentiment(tweet) for tweet in data['Tweets']])\n",
    "display(data.head(10))"
   ]
  },
  {
   "cell_type": "code",
   "execution_count": 48,
   "metadata": {},
   "outputs": [],
   "source": [
    "pos_tweets = [tweet for index, tweet in enumerate(data['Tweets']) if data['SA'][index] > 0]\n",
    "neu_tweets = [tweet for index, tweet in enumerate(data['Tweets']) if data['SA'][index] == 0]\n",
    "neg_tweets = [tweet for index, tweet in enumerate(data['Tweets']) if data['SA'][index] < 0]"
   ]
  },
  {
   "cell_type": "code",
   "execution_count": 49,
   "metadata": {},
   "outputs": [
    {
     "name": "stdout",
     "output_type": "stream",
     "text": [
      "Percentage of Positive Tweets : 40.5%\n"
     ]
    }
   ],
   "source": [
    "print(\"Percentage of Positive Tweets : {}%\".format(len(pos_tweets) / len(data['Tweets']) * 100))"
   ]
  },
  {
   "cell_type": "code",
   "execution_count": 50,
   "metadata": {},
   "outputs": [
    {
     "name": "stdout",
     "output_type": "stream",
     "text": [
      "Percentage of Neutral Tweets : 50.0%\n",
      "Percentage of Negative Tweets : 9.5%\n"
     ]
    }
   ],
   "source": [
    "print(\"Percentage of Neutral Tweets : {}%\".format(len(neu_tweets) / len(data['Tweets']) * 100))\n",
    "print(\"Percentage of Negative Tweets : {}%\".format(len(neg_tweets) / len(data['Tweets']) * 100))"
   ]
  },
  {
   "cell_type": "code",
   "execution_count": 1,
   "metadata": {},
   "outputs": [],
   "source": [
    "import os\n",
    "import pymongo\n",
    "import json"
   ]
  },
  {
   "cell_type": "code",
   "execution_count": 2,
   "metadata": {},
   "outputs": [],
   "source": [
    "mng_client = pymongo.MongoClient('localhost',27017)\n",
    "mng_db = mng_client['TwitterData']\n",
    "collection_name = 'sentimentAnalysisData'\n",
    "db_cm = mng_db[collection_name]"
   ]
  },
  {
   "cell_type": "code",
   "execution_count": 3,
   "metadata": {},
   "outputs": [
    {
     "ename": "NameError",
     "evalue": "name 'data' is not defined",
     "output_type": "error",
     "traceback": [
      "\u001b[1;31m---------------------------------------------------------------------------\u001b[0m",
      "\u001b[1;31mNameError\u001b[0m                                 Traceback (most recent call last)",
      "\u001b[1;32m<ipython-input-3-c2a9fcb2a84b>\u001b[0m in \u001b[0;36m<module>\u001b[1;34m()\u001b[0m\n\u001b[1;32m----> 1\u001b[1;33m \u001b[0mdata_json\u001b[0m \u001b[1;33m=\u001b[0m \u001b[0mjson\u001b[0m\u001b[1;33m.\u001b[0m\u001b[0mloads\u001b[0m\u001b[1;33m(\u001b[0m\u001b[0mdata\u001b[0m\u001b[1;33m.\u001b[0m\u001b[0mto_json\u001b[0m\u001b[1;33m(\u001b[0m\u001b[0morient\u001b[0m\u001b[1;33m=\u001b[0m\u001b[1;34m'records'\u001b[0m\u001b[1;33m)\u001b[0m\u001b[1;33m)\u001b[0m\u001b[1;33m\u001b[0m\u001b[0m\n\u001b[0m\u001b[0;32m      2\u001b[0m \u001b[0mdb_cm\u001b[0m\u001b[1;33m.\u001b[0m\u001b[0mremove\u001b[0m\u001b[1;33m\u001b[0m\u001b[0m\n\u001b[0;32m      3\u001b[0m \u001b[0mdb_cm\u001b[0m\u001b[1;33m.\u001b[0m\u001b[0minsert_many\u001b[0m\u001b[1;33m(\u001b[0m\u001b[0mdata_json\u001b[0m\u001b[1;33m)\u001b[0m\u001b[1;33m\u001b[0m\u001b[0m\n",
      "\u001b[1;31mNameError\u001b[0m: name 'data' is not defined"
     ]
    }
   ],
   "source": [
    "data_json = json.loads(data.to_json(orient='records'))\n",
    "db_cm.remove\n",
    "db_cm.insert_many(data_json)"
   ]
  },
  {
   "cell_type": "code",
   "execution_count": 4,
   "metadata": {},
   "outputs": [],
   "source": [
    "from flask import Flask, request, redirect, url_for, render_template, jsonify, make_response\n",
    "import datetime, random\n",
    "    \n",
    "from io import BytesIO\n",
    "from matplotlib.backends.backend_agg import FigureCanvasAgg as FigureCanvas\n",
    "from matplotlib.figure import Figure\n",
    "from matplotlib.dates import DateFormatter\n",
    "import matplotlib.pyplot as plt;\n",
    "\n",
    "import pymongo\n",
    "import json"
   ]
  },
  {
   "cell_type": "code",
   "execution_count": null,
   "metadata": {},
   "outputs": [
    {
     "name": "stderr",
     "output_type": "stream",
     "text": [
      " * Running on http://127.0.0.1:5002/ (Press CTRL+C to quit)\n",
      "127.0.0.1 - - [19/May/2018 11:33:11] \"GET / HTTP/1.1\" 200 -\n",
      "127.0.0.1 - - [19/May/2018 11:33:18] \"POST /processInput HTTP/1.1\" 200 -\n"
     ]
    },
    {
     "name": "stdout",
     "output_type": "stream",
     "text": [
      "error !\n"
     ]
    }
   ],
   "source": [
    "app = Flask(__name__)\n",
    "\n",
    "\n",
    "@app.route(\"/\")\n",
    "def index():\n",
    "    return render_template('index1.html')\n",
    "\n",
    "@app.route('/processInput', methods=['GET','POST'])\n",
    "def insert():\n",
    "    msg=\"\"\n",
    "    if request.method=='POST':\n",
    "        try:\n",
    "            handle=request.form['handle']\n",
    "            tweetCount=request.form['tweetCount']\n",
    "            extractor = twitter_setup()\n",
    "            tweets = extractor.user_timeline(screen_name = handle, count = tweetCount)\n",
    "            print(\"Number of tweets extracted : {}.\\n\".format(len(tweets)))\n",
    "            dummy = []\n",
    "            topTweets = []\n",
    "            sentimentAnalysis = []\n",
    "            print(\"5 recent tweets :\\n\")\n",
    "            for tweet in tweets[:5]:\n",
    "                \n",
    "                dummy.append(tweet.text)\n",
    "            \n",
    "            #print(dummy)\n",
    "            data = pd.DataFrame(data =[tweet.text for tweet in tweets], columns = ['Tweets'])\n",
    "            data['len'] = np.array([len(tweet.text) for tweet in tweets])\n",
    "            data['ID'] = np.array([tweet.id for tweet in tweets])\n",
    "            data['Date'] = np.array([tweet.created_at for tweet in tweets])\n",
    "            data['Source'] = np.array([tweet.source for tweet in tweets])\n",
    "            data['Likes'] = np.array([tweet.favorite_count for tweet in tweets])\n",
    "            data['RTs'] = np.array([tweet.retweet_count for tweet in tweets])\n",
    "            \n",
    "            \n",
    "            \n",
    "            mean = np.mean(data['len'])\n",
    "            topTweets.append(\"The average length of every tweet is: \" + str(mean))\n",
    "            \n",
    "            fav_max = np.max(data['Likes']) \n",
    "            rt_max = np.max(data['RTs'])\n",
    "\n",
    "            fav = data[data.Likes == fav_max].index[0] \n",
    "            rt = data[data.RTs == rt_max].index[0]\n",
    "\n",
    "            topTweets.append(\"The tweet with more likes is: \" + str(data['Tweets'][fav])) \n",
    "            topTweets.append(\"The number of likes: \" + str(fav_max)) \n",
    "            topTweets.append(str(data['len'][fav]) + \" characters.\")\n",
    "\n",
    "            topTweets.append(\"The tweet with most retweets is: \" + str(data['Tweets'][rt])) \n",
    "            topTweets.append(\"Number of retweets: \" + str(rt_max)) \n",
    "            topTweets.append(str(data['len'][rt]) + \" characters. \")\n",
    "            \n",
    "            data['SA'] = np.array([analize_sentiment(tweet) for tweet in data['Tweets']])\n",
    "            pos_tweets = [tweet for index, tweet in enumerate(data['Tweets']) if data['SA'][index] > 0]\n",
    "            neu_tweets = [tweet for index, tweet in enumerate(data['Tweets']) if data['SA'][index] == 0]\n",
    "            neg_tweets = [tweet for index, tweet in enumerate(data['Tweets']) if data['SA'][index] < 0]\n",
    "            sentimentAnalysis.append(\"Percentage of Positive Tweets : \" + str(len(pos_tweets) / len(data['Tweets']) * 100) + \"%\")\n",
    "            sentimentAnalysis.append(\"Percentage of Neutral Tweets : \" + str(len(neu_tweets) / len(data['Tweets']) * 100) + \"%\")\n",
    "            sentimentAnalysis.append(\"Percentage of Negative Tweets : \" + str(len(neg_tweets) / len(data['Tweets']) * 100) + \"%\")\n",
    "                        \n",
    "            tlen = pd.Series(data = data['len'].values, index = data['Date'])\n",
    "            tfav = pd.Series(data = data['Likes'].values, index = data['Date'])\n",
    "            tret = pd.Series(data = data['RTs'].values, index = data['Date'])     \n",
    "\n",
    "            plt.figure()\n",
    "            tlen.plot(figsize=(16,4),label=\"Length of Tweets\", legend=True)\n",
    "            plt.savefig('static/tlenplot.png')\n",
    "            \n",
    "            plt.figure()\n",
    "            tfav_plot = tfav.plot(figsize=(16,4), label='Likes', legend=True)\n",
    "            plt.savefig('static/tfavplot.png')\n",
    "            \n",
    "            plt.figure()\n",
    "            tret_plot = tret.plot(figsize=(16,4),label='Retweets',legend=True)\n",
    "            plt.savefig('static/tretplot.png')\n",
    "            \n",
    "            mng_client = pymongo.MongoClient('localhost',27017)\n",
    "            mng_db = mng_client['TwitterData']\n",
    "            collection_name = 'sentimentAnalysisData'\n",
    "            db_cm = mng_db[collection_name]\n",
    "            data_json = json.loads(data.to_json(orient='records'))\n",
    "            db_cm.remove\n",
    "            db_cm.insert_many(data_json)\n",
    "            \n",
    "            \n",
    "            return render_template('displayResults.html',dummy = dummy, topTweets = topTweets, sentimentAnalysis = sentimentAnalysis)\n",
    "    \n",
    "        \n",
    "        except:\n",
    "            print(\"error !\")\n",
    "            return render_template('error.html')\n",
    "        \n",
    "@app.route(\"/error\")\n",
    "def error():\n",
    "    return render_template('error.html')\n",
    "\n",
    "\n",
    "app.run(port=5002)"
   ]
  },
  {
   "cell_type": "code",
   "execution_count": null,
   "metadata": {},
   "outputs": [],
   "source": []
  },
  {
   "cell_type": "code",
   "execution_count": null,
   "metadata": {},
   "outputs": [],
   "source": []
  },
  {
   "cell_type": "code",
   "execution_count": null,
   "metadata": {},
   "outputs": [],
   "source": []
  },
  {
   "cell_type": "code",
   "execution_count": null,
   "metadata": {},
   "outputs": [],
   "source": []
  }
 ],
 "metadata": {
  "kernelspec": {
   "display_name": "Python 3",
   "language": "python",
   "name": "python3"
  },
  "language_info": {
   "codemirror_mode": {
    "name": "ipython",
    "version": 3
   },
   "file_extension": ".py",
   "mimetype": "text/x-python",
   "name": "python",
   "nbconvert_exporter": "python",
   "pygments_lexer": "ipython3",
   "version": "3.6.4"
  }
 },
 "nbformat": 4,
 "nbformat_minor": 2
}
